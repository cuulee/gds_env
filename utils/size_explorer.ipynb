{
 "cells": [
  {
   "cell_type": "markdown",
   "metadata": {},
   "source": [
    "# Examin the size of an environment, package by package\n",
    "\n",
    "**NOTE**: this is created mostly from:\n",
    "\n",
    "> [https://uwekorn.com/2020/09/08/trimming-down-pyarrow-conda-1-of-x.html](https://uwekorn.com/2020/09/08/trimming-down-pyarrow-conda-1-of-x.html)"
   ]
  },
  {
   "cell_type": "markdown",
   "metadata": {},
   "source": [
    "## Import and utilities"
   ]
  },
  {
   "cell_type": "code",
   "execution_count": 19,
   "metadata": {},
   "outputs": [],
   "source": [
    "from pathlib import Path\n",
    "from glob import glob\n",
    "\n",
    "import json\n",
    "import pandas as pd\n",
    "import matplotlib.pyplot as plt\n",
    "\n",
    "def get_clean_suffix(name):\n",
    "    \"\"\"Get the filename suffix without numeric elements\"\"\"\n",
    "    suffixes = [x for x in name.split(\".\")[1:] if not x.isnumeric()]\n",
    "    return (suffixes or [\"\"])[-1]\n",
    "\n",
    "def gather_files(environment, verbose=False):\n",
    "    \"\"\"Gather the list of file in an environment\"\"\"\n",
    "    files = []\n",
    "    for meta in glob(f'{environment}/conda-meta/*.json'):\n",
    "            with open(meta, \"r\") as f:\n",
    "                info = json.load(f)\n",
    "                for file in info[\"files\"]:\n",
    "                    try:\n",
    "                        path = Path(f\"{environment}/{file}\")\n",
    "                        if not path.is_symlink():\n",
    "                            files.append({\n",
    "                                \"package\": info[\"name\"],\n",
    "                                \"name\": file,\n",
    "                                \"size\": path.stat().st_size,\n",
    "                                \"suffix\": get_clean_suffix(path.name)\n",
    "                            })\n",
    "                    except:\n",
    "                        if verbose:\n",
    "                            print(f\"Package: {meta} | File: {file}\")\n",
    "                        else:\n",
    "                            pass\n",
    "                    \n",
    "    return pd.DataFrame(files)"
   ]
  },
  {
   "cell_type": "markdown",
   "metadata": {},
   "source": [
    "## Collect sizes"
   ]
  },
  {
   "cell_type": "code",
   "execution_count": null,
   "metadata": {},
   "outputs": [],
   "source": [
    "%time fs = gather_files(Path(\"/opt/conda\"))\n",
    "fs[\"size_mb\"] = fs[\"size\"] / 1024 / 1024"
   ]
  },
  {
   "cell_type": "code",
   "execution_count": 2,
   "metadata": {},
   "outputs": [
    {
     "data": {
      "text/html": [
       "<div>\n",
       "<style scoped>\n",
       "    .dataframe tbody tr th:only-of-type {\n",
       "        vertical-align: middle;\n",
       "    }\n",
       "\n",
       "    .dataframe tbody tr th {\n",
       "        vertical-align: top;\n",
       "    }\n",
       "\n",
       "    .dataframe thead th {\n",
       "        text-align: right;\n",
       "    }\n",
       "</style>\n",
       "<table border=\"1\" class=\"dataframe\">\n",
       "  <thead>\n",
       "    <tr style=\"text-align: right;\">\n",
       "      <th></th>\n",
       "      <th>package</th>\n",
       "      <th>name</th>\n",
       "      <th>size</th>\n",
       "      <th>suffix</th>\n",
       "      <th>size_mb</th>\n",
       "    </tr>\n",
       "  </thead>\n",
       "  <tbody>\n",
       "    <tr>\n",
       "      <th>0</th>\n",
       "      <td>zlib</td>\n",
       "      <td>include/zconf.h</td>\n",
       "      <td>16262</td>\n",
       "      <td>h</td>\n",
       "      <td>0.015509</td>\n",
       "    </tr>\n",
       "    <tr>\n",
       "      <th>1</th>\n",
       "      <td>zlib</td>\n",
       "      <td>include/zlib.h</td>\n",
       "      <td>96239</td>\n",
       "      <td>h</td>\n",
       "      <td>0.091781</td>\n",
       "    </tr>\n",
       "    <tr>\n",
       "      <th>2</th>\n",
       "      <td>zlib</td>\n",
       "      <td>lib/libz.so.1.2.11</td>\n",
       "      <td>109272</td>\n",
       "      <td>so</td>\n",
       "      <td>0.104210</td>\n",
       "    </tr>\n",
       "    <tr>\n",
       "      <th>3</th>\n",
       "      <td>zlib</td>\n",
       "      <td>lib/pkgconfig/zlib.pc</td>\n",
       "      <td>259</td>\n",
       "      <td>pc</td>\n",
       "      <td>0.000247</td>\n",
       "    </tr>\n",
       "    <tr>\n",
       "      <th>4</th>\n",
       "      <td>conda</td>\n",
       "      <td>bin/activate</td>\n",
       "      <td>184</td>\n",
       "      <td></td>\n",
       "      <td>0.000175</td>\n",
       "    </tr>\n",
       "  </tbody>\n",
       "</table>\n",
       "</div>"
      ],
      "text/plain": [
       "  package                   name    size suffix   size_mb\n",
       "0    zlib        include/zconf.h   16262      h  0.015509\n",
       "1    zlib         include/zlib.h   96239      h  0.091781\n",
       "2    zlib     lib/libz.so.1.2.11  109272     so  0.104210\n",
       "3    zlib  lib/pkgconfig/zlib.pc     259     pc  0.000247\n",
       "4   conda           bin/activate     184         0.000175"
      ]
     },
     "execution_count": 2,
     "metadata": {},
     "output_type": "execute_result"
    }
   ],
   "source": [
    "fs.head()"
   ]
  },
  {
   "cell_type": "markdown",
   "metadata": {},
   "source": [
    "## Explore sizes"
   ]
  },
  {
   "cell_type": "code",
   "execution_count": 4,
   "metadata": {},
   "outputs": [
    {
     "data": {
      "text/plain": [
       "2.493656547740102"
      ]
     },
     "execution_count": 4,
     "metadata": {},
     "output_type": "execute_result"
    }
   ],
   "source": [
    "fs[\"size_mb\"].sum() / 1024"
   ]
  },
  {
   "cell_type": "code",
   "execution_count": 16,
   "metadata": {
    "collapsed": true,
    "jupyter": {
     "outputs_hidden": true
    }
   },
   "outputs": [
    {
     "data": {
      "application/vnd.jupyter.widget-view+json": {
       "model_id": "7533450dafdc420a9f644db7af740c7d",
       "version_major": 2,
       "version_minor": 0
      },
      "text/plain": [
       "QgridWidget(grid_options={'fullWidthRows': True, 'syncColumnCellResize': True, 'forceFitColumns': True, 'defau…"
      ]
     },
     "metadata": {},
     "output_type": "display_data"
    }
   ],
   "source": [
    "from qgrid import show_grid\n",
    "pkgs = fs.groupby(\"package\")\\\n",
    "         [\"size_mb\"]\\\n",
    "         .sum()\\\n",
    "         .sort_values(ascending=False)\\\n",
    "         .reset_index()\n",
    "show_grid(pkgs)"
   ]
  },
  {
   "cell_type": "code",
   "execution_count": 17,
   "metadata": {},
   "outputs": [
    {
     "data": {
      "text/html": [
       "<div>\n",
       "<style scoped>\n",
       "    .dataframe tbody tr th:only-of-type {\n",
       "        vertical-align: middle;\n",
       "    }\n",
       "\n",
       "    .dataframe tbody tr th {\n",
       "        vertical-align: top;\n",
       "    }\n",
       "\n",
       "    .dataframe thead th {\n",
       "        text-align: right;\n",
       "    }\n",
       "</style>\n",
       "<table border=\"1\" class=\"dataframe\">\n",
       "  <thead>\n",
       "    <tr style=\"text-align: right;\">\n",
       "      <th></th>\n",
       "      <th>package</th>\n",
       "      <th>size_mb</th>\n",
       "    </tr>\n",
       "  </thead>\n",
       "  <tbody>\n",
       "    <tr>\n",
       "      <th>69</th>\n",
       "      <td>geos</td>\n",
       "      <td>4.387086</td>\n",
       "    </tr>\n",
       "    <tr>\n",
       "      <th>273</th>\n",
       "      <td>pygeos</td>\n",
       "      <td>0.278291</td>\n",
       "    </tr>\n",
       "  </tbody>\n",
       "</table>\n",
       "</div>"
      ],
      "text/plain": [
       "    package   size_mb\n",
       "69     geos  4.387086\n",
       "273  pygeos  0.278291"
      ]
     },
     "execution_count": 17,
     "metadata": {},
     "output_type": "execute_result"
    }
   ],
   "source": [
    "pkgs[pkgs[\"package\"].str.contains(\"geos\")]"
   ]
  }
 ],
 "metadata": {
  "kernelspec": {
   "display_name": "Python 3",
   "language": "python",
   "name": "python3"
  },
  "language_info": {
   "codemirror_mode": {
    "name": "ipython",
    "version": 3
   },
   "file_extension": ".py",
   "mimetype": "text/x-python",
   "name": "python",
   "nbconvert_exporter": "python",
   "pygments_lexer": "ipython3",
   "version": "3.7.8"
  }
 },
 "nbformat": 4,
 "nbformat_minor": 4
}
